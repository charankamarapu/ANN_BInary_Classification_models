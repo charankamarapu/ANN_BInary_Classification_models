{
 "cells": [
  {
   "cell_type": "code",
   "execution_count": 1,
   "id": "b765c1d4",
   "metadata": {},
   "outputs": [
    {
     "data": {
      "text/plain": [
       "'\\nAt first we need to understand the problem and decide everything like inputs,outputs,what type of algorithm should be used.\\n\\nHere we are trying to classify the reviews given by people into positive or negative.So we must use supervised learning i.e \\ncnn binary classification and inputs must be 1D tensors as they are not images but data and ouput must be a probalilty of \\nbinary classification.\\n\\n'"
      ]
     },
     "execution_count": 1,
     "metadata": {},
     "output_type": "execute_result"
    }
   ],
   "source": [
    "'''\n",
    "At first we need to understand the problem and decide everything like inputs,outputs,what type of algorithm should be used.\n",
    "\n",
    "Here we are trying to classify the reviews given by people into positive or negative.So we must use supervised learning i.e \n",
    "cnn binary classification and inputs must be 1D tensors as they are not images but data and ouput must be a probalilty of \n",
    "binary classification.\n",
    "\n",
    "'''"
   ]
  },
  {
   "cell_type": "code",
   "execution_count": 2,
   "id": "24111b60",
   "metadata": {},
   "outputs": [
    {
     "name": "stderr",
     "output_type": "stream",
     "text": [
      "Using TensorFlow backend.\n"
     ]
    }
   ],
   "source": [
    "# STEP - 1\n",
    "# Getiing data\n",
    "\n",
    "# first we need to get the data \n",
    "from keras.datasets import imdb"
   ]
  },
  {
   "cell_type": "code",
   "execution_count": 3,
   "id": "903b1e9e",
   "metadata": {},
   "outputs": [],
   "source": [
    "# here we take some data from the data set.\n",
    "# num_words = 10000 means that these sentenses only contain top 10000 words which are commonly used by the people\n",
    "# all words are given a number like here we took words which are numbers till 10000\n",
    "# in train and test data instead of word we use these indicies.\n",
    "# labels contain either 0 negative or 1 postive.\n",
    "\n",
    "(train_data, train_labels), (test_data, test_labels) = imdb.load_data(num_words=10000)"
   ]
  },
  {
   "cell_type": "code",
   "execution_count": 4,
   "id": "47bd3dfe",
   "metadata": {},
   "outputs": [
    {
     "data": {
      "text/plain": [
       "[1,\n",
       " 14,\n",
       " 22,\n",
       " 16,\n",
       " 43,\n",
       " 530,\n",
       " 973,\n",
       " 1622,\n",
       " 1385,\n",
       " 65,\n",
       " 458,\n",
       " 4468,\n",
       " 66,\n",
       " 3941,\n",
       " 4,\n",
       " 173,\n",
       " 36,\n",
       " 256,\n",
       " 5,\n",
       " 25,\n",
       " 100,\n",
       " 43,\n",
       " 838,\n",
       " 112,\n",
       " 50,\n",
       " 670,\n",
       " 2,\n",
       " 9,\n",
       " 35,\n",
       " 480,\n",
       " 284,\n",
       " 5,\n",
       " 150,\n",
       " 4,\n",
       " 172,\n",
       " 112,\n",
       " 167,\n",
       " 2,\n",
       " 336,\n",
       " 385,\n",
       " 39,\n",
       " 4,\n",
       " 172,\n",
       " 4536,\n",
       " 1111,\n",
       " 17,\n",
       " 546,\n",
       " 38,\n",
       " 13,\n",
       " 447,\n",
       " 4,\n",
       " 192,\n",
       " 50,\n",
       " 16,\n",
       " 6,\n",
       " 147,\n",
       " 2025,\n",
       " 19,\n",
       " 14,\n",
       " 22,\n",
       " 4,\n",
       " 1920,\n",
       " 4613,\n",
       " 469,\n",
       " 4,\n",
       " 22,\n",
       " 71,\n",
       " 87,\n",
       " 12,\n",
       " 16,\n",
       " 43,\n",
       " 530,\n",
       " 38,\n",
       " 76,\n",
       " 15,\n",
       " 13,\n",
       " 1247,\n",
       " 4,\n",
       " 22,\n",
       " 17,\n",
       " 515,\n",
       " 17,\n",
       " 12,\n",
       " 16,\n",
       " 626,\n",
       " 18,\n",
       " 2,\n",
       " 5,\n",
       " 62,\n",
       " 386,\n",
       " 12,\n",
       " 8,\n",
       " 316,\n",
       " 8,\n",
       " 106,\n",
       " 5,\n",
       " 4,\n",
       " 2223,\n",
       " 5244,\n",
       " 16,\n",
       " 480,\n",
       " 66,\n",
       " 3785,\n",
       " 33,\n",
       " 4,\n",
       " 130,\n",
       " 12,\n",
       " 16,\n",
       " 38,\n",
       " 619,\n",
       " 5,\n",
       " 25,\n",
       " 124,\n",
       " 51,\n",
       " 36,\n",
       " 135,\n",
       " 48,\n",
       " 25,\n",
       " 1415,\n",
       " 33,\n",
       " 6,\n",
       " 22,\n",
       " 12,\n",
       " 215,\n",
       " 28,\n",
       " 77,\n",
       " 52,\n",
       " 5,\n",
       " 14,\n",
       " 407,\n",
       " 16,\n",
       " 82,\n",
       " 2,\n",
       " 8,\n",
       " 4,\n",
       " 107,\n",
       " 117,\n",
       " 5952,\n",
       " 15,\n",
       " 256,\n",
       " 4,\n",
       " 2,\n",
       " 7,\n",
       " 3766,\n",
       " 5,\n",
       " 723,\n",
       " 36,\n",
       " 71,\n",
       " 43,\n",
       " 530,\n",
       " 476,\n",
       " 26,\n",
       " 400,\n",
       " 317,\n",
       " 46,\n",
       " 7,\n",
       " 4,\n",
       " 2,\n",
       " 1029,\n",
       " 13,\n",
       " 104,\n",
       " 88,\n",
       " 4,\n",
       " 381,\n",
       " 15,\n",
       " 297,\n",
       " 98,\n",
       " 32,\n",
       " 2071,\n",
       " 56,\n",
       " 26,\n",
       " 141,\n",
       " 6,\n",
       " 194,\n",
       " 7486,\n",
       " 18,\n",
       " 4,\n",
       " 226,\n",
       " 22,\n",
       " 21,\n",
       " 134,\n",
       " 476,\n",
       " 26,\n",
       " 480,\n",
       " 5,\n",
       " 144,\n",
       " 30,\n",
       " 5535,\n",
       " 18,\n",
       " 51,\n",
       " 36,\n",
       " 28,\n",
       " 224,\n",
       " 92,\n",
       " 25,\n",
       " 104,\n",
       " 4,\n",
       " 226,\n",
       " 65,\n",
       " 16,\n",
       " 38,\n",
       " 1334,\n",
       " 88,\n",
       " 12,\n",
       " 16,\n",
       " 283,\n",
       " 5,\n",
       " 16,\n",
       " 4472,\n",
       " 113,\n",
       " 103,\n",
       " 32,\n",
       " 15,\n",
       " 16,\n",
       " 5345,\n",
       " 19,\n",
       " 178,\n",
       " 32]"
      ]
     },
     "execution_count": 4,
     "metadata": {},
     "output_type": "execute_result"
    }
   ],
   "source": [
    "#let us look at review\n",
    "train_data[0]"
   ]
  },
  {
   "cell_type": "code",
   "execution_count": 5,
   "id": "2beb1466",
   "metadata": {},
   "outputs": [
    {
     "data": {
      "text/plain": [
       "1"
      ]
     },
     "execution_count": 5,
     "metadata": {},
     "output_type": "execute_result"
    }
   ],
   "source": [
    "#let us look at the label for this review\n",
    "train_labels[0]"
   ]
  },
  {
   "cell_type": "code",
   "execution_count": 6,
   "id": "77e977af",
   "metadata": {},
   "outputs": [
    {
     "data": {
      "text/plain": [
       "\"? this film was just brilliant casting location scenery story direction everyone's really suited the part they played and you could just imagine being there robert ? is an amazing actor and now the same being director ? father came from the same scottish island as myself so i loved the fact there was a real connection with this film the witty remarks throughout the film were great it was just brilliant so much that i bought the film as soon as it was released for ? and would recommend it to everyone to watch and the fly fishing was amazing really cried at the end it was so sad and you know what they say if you cry at a film it must have been good and this definitely was also ? to the two little boy's that played the ? of norman and paul they were just brilliant children are often left out of the ? list i think because the stars that play them all grown up are such a big profile for the whole film but these children are amazing and should be praised for what they have done don't you think the whole story was so lovely because it was true and was someone's life after all that was shared with us all\""
      ]
     },
     "execution_count": 6,
     "metadata": {},
     "output_type": "execute_result"
    }
   ],
   "source": [
    "#let us decode the train data are see what it is telling\n",
    "\n",
    "# its is an object for the wordindex\n",
    "word_index = imdb.get_word_index() \n",
    "\n",
    "# we will get all words and indicies related to the word from here, we will reverse it as we need words from indices\n",
    "reverse_word_index = dict([(value, key) for (key, value) in word_index.items()])\n",
    "\n",
    "# we will take a training sample and run the with dict we created , ? is the default value and the set is shifted by 3\n",
    "decoded_review = ' '.join([reverse_word_index.get(i - 3, '?') for i in train_data[0]])\n",
    "\n",
    "decoded_review"
   ]
  },
  {
   "cell_type": "code",
   "execution_count": 7,
   "id": "9d309aca",
   "metadata": {},
   "outputs": [],
   "source": [
    "# STEP - 2\n",
    "# preparing data to input into model\n",
    "# here we need 1D tensor where the vectors indicates the sequence of words or words used\n",
    "\n",
    "# import numpy to do tensor operations\n",
    "import numpy as np\n",
    "\n",
    "# the main feature of input data is that it must lie between -1,1 or 0,1 and should be normalized and should be float\n",
    "# here is a function which make a input data 1000 length and if index 500 word is present at that index it will be 1 else 0\n",
    "def vectorize_sequences(sequences, dimension=10000):\n",
    "    results = np.zeros((len(sequences), dimension))\n",
    "    for i, sequence in enumerate(sequences):\n",
    "        results[i, sequence] = 1.   \n",
    "    return results\n",
    "\n",
    "#applying function on our data set\n",
    "x_train = vectorize_sequences(train_data)\n",
    "x_test = vectorize_sequences(test_data)"
   ]
  },
  {
   "cell_type": "code",
   "execution_count": 8,
   "id": "83665f38",
   "metadata": {},
   "outputs": [
    {
     "data": {
      "text/plain": [
       "array([0., 1., 1., ..., 0., 0., 0.])"
      ]
     },
     "execution_count": 8,
     "metadata": {},
     "output_type": "execute_result"
    }
   ],
   "source": [
    "x_train[0]"
   ]
  },
  {
   "cell_type": "code",
   "execution_count": 9,
   "id": "be4c91bb",
   "metadata": {},
   "outputs": [
    {
     "data": {
      "text/plain": [
       "array([[0., 1., 1., ..., 0., 0., 0.],\n",
       "       [0., 1., 1., ..., 0., 0., 0.],\n",
       "       [0., 1., 1., ..., 0., 0., 0.],\n",
       "       ...,\n",
       "       [0., 1., 1., ..., 0., 0., 0.],\n",
       "       [0., 1., 1., ..., 0., 0., 0.],\n",
       "       [0., 1., 1., ..., 0., 0., 0.]])"
      ]
     },
     "execution_count": 9,
     "metadata": {},
     "output_type": "execute_result"
    }
   ],
   "source": [
    "# we have a 2d array with 25000 samples and every sample with a 10000 len vector\n",
    "x_train"
   ]
  },
  {
   "cell_type": "code",
   "execution_count": 10,
   "id": "d56486ee",
   "metadata": {},
   "outputs": [],
   "source": [
    "# we need to prerpare the labels to float as well\n",
    "y_train = np.asarray(train_labels).astype('float32')\n",
    "y_test = np.asarray(test_labels).astype('float32')\n"
   ]
  },
  {
   "cell_type": "code",
   "execution_count": 11,
   "id": "4e8798e6",
   "metadata": {},
   "outputs": [],
   "source": [
    "# bisecting training set into traiing and valdation set\n",
    "\n",
    "x_val = x_train[:10000]\n",
    "partial_x_train = x_train[10000:]\n",
    "\n",
    "y_val = y_train[:10000]\n",
    "partial_y_train = y_train[10000:]"
   ]
  },
  {
   "cell_type": "code",
   "execution_count": 12,
   "id": "daf21b29",
   "metadata": {},
   "outputs": [],
   "source": [
    "#import models and layers\n",
    "from keras import models\n",
    "from keras import layers"
   ]
  },
  {
   "cell_type": "code",
   "execution_count": 13,
   "id": "320fdd72",
   "metadata": {},
   "outputs": [],
   "source": [
    "#STEP 3\n",
    "# creating model\n",
    "\n",
    "model = models.Sequential()\n",
    "\n",
    "#as it is a 1d input we need to use dense layers \n",
    "# we use relu activation because if we not apply relu there wil be only linearr transformations\n",
    "#no of layers , no of elements in layers are imp\n",
    "model.add(layers.Dense(32, activation='relu', input_shape=(10000,)))\n",
    "model.add(layers.Dense(32, activation='relu'))\n",
    "model.add(layers.Dense(16, activation='relu'))\n",
    "\n",
    "# here in the last layer we use sigmoid to get probability of the class if it is 0.7 its is positive review 0-1\n",
    "model.add(layers.Dense(1, activation='sigmoid'))"
   ]
  },
  {
   "cell_type": "code",
   "execution_count": 14,
   "id": "981961e2",
   "metadata": {},
   "outputs": [
    {
     "name": "stdout",
     "output_type": "stream",
     "text": [
      "WARNING:tensorflow:From C:\\Users\\kamar\\anaconda3\\envs\\myenv\\lib\\site-packages\\tensorflow\\python\\ops\\nn_impl.py:180: add_dispatch_support.<locals>.wrapper (from tensorflow.python.ops.array_ops) is deprecated and will be removed in a future version.\n",
      "Instructions for updating:\n",
      "Use tf.where in 2.0, which has the same broadcast rule as np.where\n"
     ]
    }
   ],
   "source": [
    "# optimizer , loss function , stats\n",
    "# optimizer is rmsprop as it is a classification problem \n",
    "# binary crossentropy because it is a binary clasiification\n",
    "model.compile(optimizer='rmsprop',loss='binary_crossentropy',metrics=['accuracy'])"
   ]
  },
  {
   "cell_type": "code",
   "execution_count": 15,
   "id": "7fdb8eae",
   "metadata": {},
   "outputs": [
    {
     "name": "stdout",
     "output_type": "stream",
     "text": [
      "Model: \"sequential_1\"\n",
      "_________________________________________________________________\n",
      "Layer (type)                 Output Shape              Param #   \n",
      "=================================================================\n",
      "dense_1 (Dense)              (None, 32)                320032    \n",
      "_________________________________________________________________\n",
      "dense_2 (Dense)              (None, 32)                1056      \n",
      "_________________________________________________________________\n",
      "dense_3 (Dense)              (None, 16)                528       \n",
      "_________________________________________________________________\n",
      "dense_4 (Dense)              (None, 1)                 17        \n",
      "=================================================================\n",
      "Total params: 321,633\n",
      "Trainable params: 321,633\n",
      "Non-trainable params: 0\n",
      "_________________________________________________________________\n"
     ]
    }
   ],
   "source": [
    "model.summary()"
   ]
  },
  {
   "cell_type": "code",
   "execution_count": 15,
   "id": "931e4fa5",
   "metadata": {},
   "outputs": [
    {
     "name": "stdout",
     "output_type": "stream",
     "text": [
      "WARNING:tensorflow:From C:\\Users\\kamar\\anaconda3\\envs\\myenv\\lib\\site-packages\\keras\\backend\\tensorflow_backend.py:422: The name tf.global_variables is deprecated. Please use tf.compat.v1.global_variables instead.\n",
      "\n",
      "Train on 15000 samples, validate on 10000 samples\n",
      "Epoch 1/20\n",
      "15000/15000 [==============================] - 6s 430us/step - loss: 0.5053 - accuracy: 0.7634 - val_loss: 0.3507 - val_accuracy: 0.8709\n",
      "Epoch 2/20\n",
      "15000/15000 [==============================] - 3s 191us/step - loss: 0.2676 - accuracy: 0.9039 - val_loss: 0.3289 - val_accuracy: 0.8665\n",
      "Epoch 3/20\n",
      "15000/15000 [==============================] - 2s 146us/step - loss: 0.1968 - accuracy: 0.9281 - val_loss: 0.3258 - val_accuracy: 0.8713\n",
      "Epoch 4/20\n",
      "15000/15000 [==============================] - 2s 139us/step - loss: 0.1481 - accuracy: 0.9499 - val_loss: 0.3123 - val_accuracy: 0.8807oss: 0.1326 - \n",
      "Epoch 5/20\n",
      "15000/15000 [==============================] - 2s 146us/step - loss: 0.1241 - accuracy: 0.9561 - val_loss: 0.3204 - val_accuracy: 0.8832\n",
      "Epoch 6/20\n",
      "15000/15000 [==============================] - 2s 152us/step - loss: 0.0931 - accuracy: 0.9698 - val_loss: 0.3333 - val_accuracy: 0.8822\n",
      "Epoch 7/20\n",
      "15000/15000 [==============================] - 2s 140us/step - loss: 0.0729 - accuracy: 0.9761 - val_loss: 0.3840 - val_accuracy: 0.8793accuracy: 0.\n",
      "Epoch 8/20\n",
      "15000/15000 [==============================] - 2s 138us/step - loss: 0.0623 - accuracy: 0.9805 - val_loss: 0.3976 - val_accuracy: 0.8783accuracy: 0.98\n",
      "Epoch 9/20\n",
      "15000/15000 [==============================] - 2s 137us/step - loss: 0.0458 - accuracy: 0.9858 - val_loss: 0.4290 - val_accuracy: 0.8779accuracy: 0.98\n",
      "Epoch 10/20\n",
      "15000/15000 [==============================] - 2s 156us/step - loss: 0.0409 - accuracy: 0.9869 - val_loss: 0.4636 - val_accuracy: 0.8775\n",
      "Epoch 11/20\n",
      "15000/15000 [==============================] - 2s 150us/step - loss: 0.0135 - accuracy: 0.9985 - val_loss: 0.5188 - val_accuracy: 0.8692\n",
      "Epoch 12/20\n",
      "15000/15000 [==============================] - 2s 141us/step - loss: 0.0373 - accuracy: 0.9898 - val_loss: 0.5403 - val_accuracy: 0.8746\n",
      "Epoch 13/20\n",
      "15000/15000 [==============================] - 2s 149us/step - loss: 0.0062 - accuracy: 0.9995 - val_loss: 0.6731 - val_accuracy: 0.8566\n",
      "Epoch 14/20\n",
      "15000/15000 [==============================] - 2s 141us/step - loss: 0.0149 - accuracy: 0.9957 - val_loss: 0.6119 - val_accuracy: 0.8719 loss: 0.0258 \n",
      "Epoch 15/20\n",
      "15000/15000 [==============================] - 2s 137us/step - loss: 0.0061 - accuracy: 0.9987 - val_loss: 0.9555 - val_accuracy: 0.8347\n",
      "Epoch 16/20\n",
      "15000/15000 [==============================] - 2s 137us/step - loss: 0.0038 - accuracy: 0.9994 - val_loss: 0.7093 - val_accuracy: 0.8693 loss: 0.0053 - \n",
      "Epoch 17/20\n",
      "15000/15000 [==============================] - 2s 137us/step - loss: 0.0012 - accuracy: 1.0000 - val_loss: 0.7728 - val_accuracy: 0.8674\n",
      "Epoch 18/20\n",
      "15000/15000 [==============================] - 2s 136us/step - loss: 0.0173 - accuracy: 0.9955 - val_loss: 0.8366 - val_accuracy: 0.8668\n",
      "Epoch 19/20\n",
      "15000/15000 [==============================] - 2s 136us/step - loss: 4.5058e-04 - accuracy: 1.0000 - val_loss: 0.8585 - val_accuracy: 0.8669\n",
      "Epoch 20/20\n",
      "15000/15000 [==============================] - 2s 138us/step - loss: 3.3623e-04 - accuracy: 1.0000 - val_loss: 0.8975 - val_accuracy: 0.8661\n"
     ]
    }
   ],
   "source": [
    "# training\n",
    "# batches\n",
    "# epochs\n",
    "# training set\n",
    "# validation set\n",
    "history = model.fit(partial_x_train,partial_y_train,epochs=20,batch_size=512,validation_data=(x_val, y_val))"
   ]
  },
  {
   "cell_type": "code",
   "execution_count": 16,
   "id": "c45dc42b",
   "metadata": {},
   "outputs": [
    {
     "data": {
      "image/png": "[encoded data removed]",
      "text/plain": [
       "<Figure size 432x288 with 1 Axes>"
      ]
     },
     "metadata": {
      "needs_background": "light"
     },
     "output_type": "display_data"
    }
   ],
   "source": [
    "import matplotlib.pyplot as plt\n",
    "history_dict = history.history\n",
    "loss_values = history_dict['loss']\n",
    "val_loss_values = history_dict['val_loss']\n",
    "epochs = range(1, 20 + 1)\n",
    "plt.plot(epochs, loss_values, 'bo', label='Training loss')\n",
    "plt.plot(epochs, val_loss_values, 'b', label='Validation loss')\n",
    "plt.title('Training and validation loss')\n",
    "plt.xlabel('Epochs')\n",
    "plt.ylabel('Loss')\n",
    "plt.legend()\n",
    "plt.show()"
   ]
  },
  {
   "cell_type": "code",
   "execution_count": 17,
   "id": "a23aa6c1",
   "metadata": {},
   "outputs": [
    {
     "data": {
      "image/png": "[encoded data removed]",
      "text/plain": [
       "<Figure size 432x288 with 1 Axes>"
      ]
     },
     "metadata": {
      "needs_background": "light"
     },
     "output_type": "display_data"
    }
   ],
   "source": [
    "acc_values = history_dict['accuracy']\n",
    "val_acc_values = history_dict['val_accuracy']\n",
    "plt.plot(epochs, acc_values, 'bo', label='Training acc')\n",
    "plt.plot(epochs, val_acc_values, 'b', label='Validation acc')\n",
    "plt.title('Training and validation accuracy')\n",
    "plt.xlabel('Epochs')\n",
    "plt.ylabel('Loss')\n",
    "plt.legend()\n",
    "plt.show()"
   ]
  },
  {
   "cell_type": "code",
   "execution_count": 18,
   "id": "7d7fc8ed",
   "metadata": {},
   "outputs": [
    {
     "data": {
      "text/plain": [
       "array([[0.00078987]], dtype=float32)"
      ]
     },
     "execution_count": 18,
     "metadata": {},
     "output_type": "execute_result"
    }
   ],
   "source": [
    "#predict\n",
    "model.predict(x_test[0:1])"
   ]
  },
  {
   "cell_type": "code",
   "execution_count": 19,
   "id": "a3c9f6ec",
   "metadata": {},
   "outputs": [],
   "source": [
    "# to reduce validation loss we have many methods / overfiting\n",
    "#Get more training data.\n",
    "#Reduce the capacity of the network.\n",
    "#Add weight regularization.\n",
    "#Add dropout."
   ]
  },
  {
   "cell_type": "code",
   "execution_count": 20,
   "id": "fb955d35",
   "metadata": {},
   "outputs": [
    {
     "name": "stdout",
     "output_type": "stream",
     "text": [
      "Model: \"sequential_1\"\n",
      "_________________________________________________________________\n",
      "Layer (type)                 Output Shape              Param #   \n",
      "=================================================================\n",
      "dense_1 (Dense)              (None, 32)                320032    \n",
      "_________________________________________________________________\n",
      "dense_2 (Dense)              (None, 32)                1056      \n",
      "_________________________________________________________________\n",
      "dense_3 (Dense)              (None, 16)                528       \n",
      "_________________________________________________________________\n",
      "dense_4 (Dense)              (None, 1)                 17        \n",
      "=================================================================\n",
      "Total params: 321,633\n",
      "Trainable params: 321,633\n",
      "Non-trainable params: 0\n",
      "_________________________________________________________________\n"
     ]
    }
   ],
   "source": [
    "model.summary()"
   ]
  },
  {
   "cell_type": "code",
   "execution_count": 24,
   "id": "d9d6e797",
   "metadata": {},
   "outputs": [
    {
     "data": {
      "text/plain": [
       "10000"
      ]
     },
     "execution_count": 24,
     "metadata": {},
     "output_type": "execute_result"
    }
   ],
   "source": [
    "len(x_train[0])"
   ]
  },
  {
   "cell_type": "code",
   "execution_count": null,
   "id": "1c983b7f",
   "metadata": {},
   "outputs": [],
   "source": []
  }
 ],
 "metadata": {
  "kernelspec": {
   "display_name": "Python [conda env:myenv] *",
   "language": "python",
   "name": "conda-env-myenv-py"
  },
  "language_info": {
   "codemirror_mode": {
    "name": "ipython",
    "version": 3
   },
   "file_extension": ".py",
   "mimetype": "text/x-python",
   "name": "python",
   "nbconvert_exporter": "python",
   "pygments_lexer": "ipython3",
   "version": "3.6.13"
  }
 },
 "nbformat": 4,
 "nbformat_minor": 5
}
